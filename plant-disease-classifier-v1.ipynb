{
 "cells": [
  {
   "cell_type": "code",
   "execution_count": 1,
   "id": "1f90c707",
   "metadata": {
    "execution": {
     "iopub.execute_input": "2023-12-27T11:55:03.280878Z",
     "iopub.status.busy": "2023-12-27T11:55:03.280537Z",
     "iopub.status.idle": "2023-12-27T11:55:18.039816Z",
     "shell.execute_reply": "2023-12-27T11:55:18.038927Z"
    },
    "papermill": {
     "duration": 14.766591,
     "end_time": "2023-12-27T11:55:18.042208",
     "exception": false,
     "start_time": "2023-12-27T11:55:03.275617",
     "status": "completed"
    },
    "tags": []
   },
   "outputs": [
    {
     "name": "stderr",
     "output_type": "stream",
     "text": [
      "/opt/conda/lib/python3.10/site-packages/scipy/__init__.py:146: UserWarning: A NumPy version >=1.16.5 and <1.23.0 is required for this version of SciPy (detected version 1.24.3\n",
      "  warnings.warn(f\"A NumPy version >={np_minversion} and <{np_maxversion}\"\n"
     ]
    }
   ],
   "source": [
    "from fastai.vision.all import *"
   ]
  },
  {
   "cell_type": "code",
   "execution_count": 2,
   "id": "05e7e316",
   "metadata": {
    "execution": {
     "iopub.execute_input": "2023-12-27T11:55:18.049939Z",
     "iopub.status.busy": "2023-12-27T11:55:18.049681Z",
     "iopub.status.idle": "2023-12-27T11:55:18.056185Z",
     "shell.execute_reply": "2023-12-27T11:55:18.055326Z"
    },
    "papermill": {
     "duration": 0.012422,
     "end_time": "2023-12-27T11:55:18.058125",
     "exception": false,
     "start_time": "2023-12-27T11:55:18.045703",
     "status": "completed"
    },
    "tags": []
   },
   "outputs": [],
   "source": [
    "db = DataBlock(\n",
    "    blocks=(ImageBlock, CategoryBlock),\n",
    "    get_items=get_image_files,\n",
    "    splitter=GrandparentSplitter(train_name='train', valid_name='valid'),\n",
    "    get_y=parent_label,\n",
    "    item_tfms=Resize(224))"
   ]
  },
  {
   "cell_type": "code",
   "execution_count": 3,
   "id": "3ba18214",
   "metadata": {
    "execution": {
     "iopub.execute_input": "2023-12-27T11:55:18.065537Z",
     "iopub.status.busy": "2023-12-27T11:55:18.065275Z",
     "iopub.status.idle": "2023-12-27T11:55:18.069822Z",
     "shell.execute_reply": "2023-12-27T11:55:18.068611Z"
    },
    "papermill": {
     "duration": 0.010609,
     "end_time": "2023-12-27T11:55:18.071832",
     "exception": false,
     "start_time": "2023-12-27T11:55:18.061223",
     "status": "completed"
    },
    "tags": []
   },
   "outputs": [],
   "source": [
    "def diagnosis(x): return x[0].isupper()"
   ]
  },
  {
   "cell_type": "code",
   "execution_count": 4,
   "id": "c2f7f500",
   "metadata": {
    "execution": {
     "iopub.execute_input": "2023-12-27T11:55:18.079697Z",
     "iopub.status.busy": "2023-12-27T11:55:18.079396Z",
     "iopub.status.idle": "2023-12-27T11:57:15.254438Z",
     "shell.execute_reply": "2023-12-27T11:57:15.253549Z"
    },
    "papermill": {
     "duration": 117.181556,
     "end_time": "2023-12-27T11:57:15.256853",
     "exception": false,
     "start_time": "2023-12-27T11:55:18.075297",
     "status": "completed"
    },
    "tags": []
   },
   "outputs": [],
   "source": [
    "path = '/kaggle/input/new-plant-diseases-dataset/new plant diseases dataset(augmented)/New Plant Diseases Dataset(Augmented)'\n",
    "dls = db.dataloaders(path, label_func=diagnosis)"
   ]
  },
  {
   "cell_type": "code",
   "execution_count": 5,
   "id": "aa0b5373",
   "metadata": {
    "execution": {
     "iopub.execute_input": "2023-12-27T11:57:15.264988Z",
     "iopub.status.busy": "2023-12-27T11:57:15.264715Z",
     "iopub.status.idle": "2023-12-27T11:57:16.824899Z",
     "shell.execute_reply": "2023-12-27T11:57:16.824093Z"
    },
    "papermill": {
     "duration": 1.56666,
     "end_time": "2023-12-27T11:57:16.827213",
     "exception": false,
     "start_time": "2023-12-27T11:57:15.260553",
     "status": "completed"
    },
    "tags": []
   },
   "outputs": [
    {
     "data": {
      "application/vnd.jupyter.widget-view+json": {
       "model_id": "ec802191a40d47b49c5d24f6759fb689",
       "version_major": 2,
       "version_minor": 0
      },
      "text/plain": [
       "model.safetensors:   0%|          | 0.00/88.2M [00:00<?, ?B/s]"
      ]
     },
     "metadata": {},
     "output_type": "display_data"
    }
   ],
   "source": [
    "learn = vision_learner(dls, 'vit_small_patch16_224', metrics=error_rate, opt_func=Adam)"
   ]
  },
  {
   "cell_type": "code",
   "execution_count": 6,
   "id": "20cc3fa2",
   "metadata": {
    "execution": {
     "iopub.execute_input": "2023-12-27T11:57:16.835794Z",
     "iopub.status.busy": "2023-12-27T11:57:16.835488Z",
     "iopub.status.idle": "2023-12-27T13:09:19.349172Z",
     "shell.execute_reply": "2023-12-27T13:09:19.348144Z"
    },
    "papermill": {
     "duration": 4322.520512,
     "end_time": "2023-12-27T13:09:19.351560",
     "exception": false,
     "start_time": "2023-12-27T11:57:16.831048",
     "status": "completed"
    },
    "tags": []
   },
   "outputs": [
    {
     "data": {
      "text/html": [
       "\n",
       "<style>\n",
       "    /* Turns off some styling */\n",
       "    progress {\n",
       "        /* gets rid of default border in Firefox and Opera. */\n",
       "        border: none;\n",
       "        /* Needs to be in here for Safari polyfill so background images work as expected. */\n",
       "        background-size: auto;\n",
       "    }\n",
       "    progress:not([value]), progress:not([value])::-webkit-progress-bar {\n",
       "        background: repeating-linear-gradient(45deg, #7e7e7e, #7e7e7e 10px, #5c5c5c 10px, #5c5c5c 20px);\n",
       "    }\n",
       "    .progress-bar-interrupted, .progress-bar-interrupted::-webkit-progress-bar {\n",
       "        background: #F44336;\n",
       "    }\n",
       "</style>\n"
      ],
      "text/plain": [
       "<IPython.core.display.HTML object>"
      ]
     },
     "metadata": {},
     "output_type": "display_data"
    },
    {
     "data": {
      "text/html": [
       "<table border=\"1\" class=\"dataframe\">\n",
       "  <thead>\n",
       "    <tr style=\"text-align: left;\">\n",
       "      <th>epoch</th>\n",
       "      <th>train_loss</th>\n",
       "      <th>valid_loss</th>\n",
       "      <th>error_rate</th>\n",
       "      <th>time</th>\n",
       "    </tr>\n",
       "  </thead>\n",
       "  <tbody>\n",
       "    <tr>\n",
       "      <td>0</td>\n",
       "      <td>0.134497</td>\n",
       "      <td>0.046805</td>\n",
       "      <td>0.016447</td>\n",
       "      <td>10:11</td>\n",
       "    </tr>\n",
       "  </tbody>\n",
       "</table>"
      ],
      "text/plain": [
       "<IPython.core.display.HTML object>"
      ]
     },
     "metadata": {},
     "output_type": "display_data"
    },
    {
     "data": {
      "text/html": [
       "\n",
       "<style>\n",
       "    /* Turns off some styling */\n",
       "    progress {\n",
       "        /* gets rid of default border in Firefox and Opera. */\n",
       "        border: none;\n",
       "        /* Needs to be in here for Safari polyfill so background images work as expected. */\n",
       "        background-size: auto;\n",
       "    }\n",
       "    progress:not([value]), progress:not([value])::-webkit-progress-bar {\n",
       "        background: repeating-linear-gradient(45deg, #7e7e7e, #7e7e7e 10px, #5c5c5c 10px, #5c5c5c 20px);\n",
       "    }\n",
       "    .progress-bar-interrupted, .progress-bar-interrupted::-webkit-progress-bar {\n",
       "        background: #F44336;\n",
       "    }\n",
       "</style>\n"
      ],
      "text/plain": [
       "<IPython.core.display.HTML object>"
      ]
     },
     "metadata": {},
     "output_type": "display_data"
    },
    {
     "data": {
      "text/html": [
       "<table border=\"1\" class=\"dataframe\">\n",
       "  <thead>\n",
       "    <tr style=\"text-align: left;\">\n",
       "      <th>epoch</th>\n",
       "      <th>train_loss</th>\n",
       "      <th>valid_loss</th>\n",
       "      <th>error_rate</th>\n",
       "      <th>time</th>\n",
       "    </tr>\n",
       "  </thead>\n",
       "  <tbody>\n",
       "    <tr>\n",
       "      <td>0</td>\n",
       "      <td>0.040298</td>\n",
       "      <td>0.018564</td>\n",
       "      <td>0.006146</td>\n",
       "      <td>12:23</td>\n",
       "    </tr>\n",
       "    <tr>\n",
       "      <td>1</td>\n",
       "      <td>0.020076</td>\n",
       "      <td>0.011566</td>\n",
       "      <td>0.003642</td>\n",
       "      <td>12:21</td>\n",
       "    </tr>\n",
       "    <tr>\n",
       "      <td>2</td>\n",
       "      <td>0.008303</td>\n",
       "      <td>0.006811</td>\n",
       "      <td>0.001935</td>\n",
       "      <td>12:23</td>\n",
       "    </tr>\n",
       "    <tr>\n",
       "      <td>3</td>\n",
       "      <td>0.003148</td>\n",
       "      <td>0.005925</td>\n",
       "      <td>0.001480</td>\n",
       "      <td>12:21</td>\n",
       "    </tr>\n",
       "    <tr>\n",
       "      <td>4</td>\n",
       "      <td>0.000872</td>\n",
       "      <td>0.004660</td>\n",
       "      <td>0.001024</td>\n",
       "      <td>12:21</td>\n",
       "    </tr>\n",
       "  </tbody>\n",
       "</table>"
      ],
      "text/plain": [
       "<IPython.core.display.HTML object>"
      ]
     },
     "metadata": {},
     "output_type": "display_data"
    }
   ],
   "source": [
    "learn.fine_tune(epochs=5)"
   ]
  },
  {
   "cell_type": "code",
   "execution_count": 7,
   "id": "00ec8d94",
   "metadata": {
    "execution": {
     "iopub.execute_input": "2023-12-27T13:09:19.361912Z",
     "iopub.status.busy": "2023-12-27T13:09:19.361593Z",
     "iopub.status.idle": "2023-12-27T13:09:20.169205Z",
     "shell.execute_reply": "2023-12-27T13:09:20.168300Z"
    },
    "papermill": {
     "duration": 0.815138,
     "end_time": "2023-12-27T13:09:20.171358",
     "exception": false,
     "start_time": "2023-12-27T13:09:19.356220",
     "status": "completed"
    },
    "tags": []
   },
   "outputs": [
    {
     "data": {
      "image/png": "[encoded data removed]",
      "text/plain": [
       "<Figure size 640x480 with 1 Axes>"
      ]
     },
     "metadata": {},
     "output_type": "display_data"
    }
   ],
   "source": [
    "learn.recorder.plot_loss()"
   ]
  },
  {
   "cell_type": "code",
   "execution_count": 8,
   "id": "1923d8bc",
   "metadata": {
    "execution": {
     "iopub.execute_input": "2023-12-27T13:09:20.181892Z",
     "iopub.status.busy": "2023-12-27T13:09:20.181566Z",
     "iopub.status.idle": "2023-12-27T13:09:20.186434Z",
     "shell.execute_reply": "2023-12-27T13:09:20.185478Z"
    },
    "papermill": {
     "duration": 0.012735,
     "end_time": "2023-12-27T13:09:20.188749",
     "exception": false,
     "start_time": "2023-12-27T13:09:20.176014",
     "status": "completed"
    },
    "tags": []
   },
   "outputs": [
    {
     "name": "stdout",
     "output_type": "stream",
     "text": [
      "['Apple___Apple_scab', 'Apple___Black_rot', 'Apple___Cedar_apple_rust', 'Apple___healthy', 'Blueberry___healthy', 'Cherry_(including_sour)___Powdery_mildew', 'Cherry_(including_sour)___healthy', 'Corn_(maize)___Cercospora_leaf_spot Gray_leaf_spot', 'Corn_(maize)___Common_rust_', 'Corn_(maize)___Northern_Leaf_Blight', 'Corn_(maize)___healthy', 'Grape___Black_rot', 'Grape___Esca_(Black_Measles)', 'Grape___Leaf_blight_(Isariopsis_Leaf_Spot)', 'Grape___healthy', 'Orange___Haunglongbing_(Citrus_greening)', 'Peach___Bacterial_spot', 'Peach___healthy', 'Pepper,_bell___Bacterial_spot', 'Pepper,_bell___healthy', 'Potato___Early_blight', 'Potato___Late_blight', 'Potato___healthy', 'Raspberry___healthy', 'Soybean___healthy', 'Squash___Powdery_mildew', 'Strawberry___Leaf_scorch', 'Strawberry___healthy', 'Tomato___Bacterial_spot', 'Tomato___Early_blight', 'Tomato___Late_blight', 'Tomato___Leaf_Mold', 'Tomato___Septoria_leaf_spot', 'Tomato___Spider_mites Two-spotted_spider_mite', 'Tomato___Target_Spot', 'Tomato___Tomato_Yellow_Leaf_Curl_Virus', 'Tomato___Tomato_mosaic_virus', 'Tomato___healthy']\n"
     ]
    }
   ],
   "source": [
    "print(dls.vocab)"
   ]
  },
  {
   "cell_type": "code",
   "execution_count": 9,
   "id": "aefa30f4",
   "metadata": {
    "execution": {
     "iopub.execute_input": "2023-12-27T13:09:20.198839Z",
     "iopub.status.busy": "2023-12-27T13:09:20.198571Z",
     "iopub.status.idle": "2023-12-27T13:09:20.721487Z",
     "shell.execute_reply": "2023-12-27T13:09:20.720621Z"
    },
    "papermill": {
     "duration": 0.530584,
     "end_time": "2023-12-27T13:09:20.723804",
     "exception": false,
     "start_time": "2023-12-27T13:09:20.193220",
     "status": "completed"
    },
    "tags": []
   },
   "outputs": [],
   "source": [
    "learn.export('model.pkl')"
   ]
  }
 ],
 "metadata": {
  "kaggle": {
   "accelerator": "nvidiaTeslaT4",
   "dataSources": [
    {
     "datasetId": 78313,
     "sourceId": 182633,
     "sourceType": "datasetVersion"
    }
   ],
   "dockerImageVersionId": 30626,
   "isGpuEnabled": true,
   "isInternetEnabled": true,
   "language": "python",
   "sourceType": "notebook"
  },
  "kernelspec": {
   "display_name": "Python 3",
   "language": "python",
   "name": "python3"
  },
  "language_info": {
   "codemirror_mode": {
    "name": "ipython",
    "version": 3
   },
   "file_extension": ".py",
   "mimetype": "text/x-python",
   "name": "python",
   "nbconvert_exporter": "python",
   "pygments_lexer": "ipython3",
   "version": "3.10.12"
  },
  "papermill": {
   "default_parameters": {},
   "duration": 4465.343202,
   "end_time": "2023-12-27T13:09:23.837537",
   "environment_variables": {},
   "exception": null,
   "input_path": "__notebook__.ipynb",
   "output_path": "__notebook__.ipynb",
   "parameters": {},
   "start_time": "2023-12-27T11:54:58.494335",
   "version": "2.4.0"
  },
  "widgets": {
   "application/vnd.jupyter.widget-state+json": {
    "state": {
     "0c571ba3e88f4320a7e543af556f6d39": {
      "model_module": "@jupyter-widgets/controls",
      "model_module_version": "1.5.0",
      "model_name": "DescriptionStyleModel",
      "state": {
       "_model_module": "@jupyter-widgets/controls",
       "_model_module_version": "1.5.0",
       "_model_name": "DescriptionStyleModel",
       "_view_count": null,
       "_view_module": "@jupyter-widgets/base",
       "_view_module_version": "1.2.0",
       "_view_name": "StyleView",
       "description_width": ""
      }
     },
     "19a76710b59f48de9fd432c16898e78b": {
      "model_module": "@jupyter-widgets/base",
      "model_module_version": "1.2.0",
      "model_name": "LayoutModel",
      "state": {
       "_model_module": "@jupyter-widgets/base",
       "_model_module_version": "1.2.0",
       "_model_name": "LayoutModel",
       "_view_count": null,
       "_view_module": "@jupyter-widgets/base",
       "_view_module_version": "1.2.0",
       "_view_name": "LayoutView",
       "align_content": null,
       "align_items": null,
       "align_self": null,
       "border": null,
       "bottom": null,
       "display": null,
       "flex": null,
       "flex_flow": null,
       "grid_area": null,
       "grid_auto_columns": null,
       "grid_auto_flow": null,
       "grid_auto_rows": null,
       "grid_column": null,
       "grid_gap": null,
       "grid_row": null,
       "grid_template_areas": null,
       "grid_template_columns": null,
       "grid_template_rows": null,
       "height": null,
       "justify_content": null,
       "justify_items": null,
       "left": null,
       "margin": null,
       "max_height": null,
       "max_width": null,
       "min_height": null,
       "min_width": null,
       "object_fit": null,
       "object_position": null,
       "order": null,
       "overflow": null,
       "overflow_x": null,
       "overflow_y": null,
       "padding": null,
       "right": null,
       "top": null,
       "visibility": null,
       "width": null
      }
     },
     "1f64ccd64b0043ec87b626afe56082de": {
      "model_module": "@jupyter-widgets/base",
      "model_module_version": "1.2.0",
      "model_name": "LayoutModel",
      "state": {
       "_model_module": "@jupyter-widgets/base",
       "_model_module_version": "1.2.0",
       "_model_name": "LayoutModel",
       "_view_count": null,
       "_view_module": "@jupyter-widgets/base",
       "_view_module_version": "1.2.0",
       "_view_name": "LayoutView",
       "align_content": null,
       "align_items": null,
       "align_self": null,
       "border": null,
       "bottom": null,
       "display": null,
       "flex": null,
       "flex_flow": null,
       "grid_area": null,
       "grid_auto_columns": null,
       "grid_auto_flow": null,
       "grid_auto_rows": null,
       "grid_column": null,
       "grid_gap": null,
       "grid_row": null,
       "grid_template_areas": null,
       "grid_template_columns": null,
       "grid_template_rows": null,
       "height": null,
       "justify_content": null,
       "justify_items": null,
       "left": null,
       "margin": null,
       "max_height": null,
       "max_width": null,
       "min_height": null,
       "min_width": null,
       "object_fit": null,
       "object_position": null,
       "order": null,
       "overflow": null,
       "overflow_x": null,
       "overflow_y": null,
       "padding": null,
       "right": null,
       "top": null,
       "visibility": null,
       "width": null
      }
     },
     "2d6690192d9044918de71bdaa4a6e188": {
      "model_module": "@jupyter-widgets/base",
      "model_module_version": "1.2.0",
      "model_name": "LayoutModel",
      "state": {
       "_model_module": "@jupyter-widgets/base",
       "_model_module_version": "1.2.0",
       "_model_name": "LayoutModel",
       "_view_count": null,
       "_view_module": "@jupyter-widgets/base",
       "_view_module_version": "1.2.0",
       "_view_name": "LayoutView",
       "align_content": null,
       "align_items": null,
       "align_self": null,
       "border": null,
       "bottom": null,
       "display": null,
       "flex": null,
       "flex_flow": null,
       "grid_area": null,
       "grid_auto_columns": null,
       "grid_auto_flow": null,
       "grid_auto_rows": null,
       "grid_column": null,
       "grid_gap": null,
       "grid_row": null,
       "grid_template_areas": null,
       "grid_template_columns": null,
       "grid_template_rows": null,
       "height": null,
       "justify_content": null,
       "justify_items": null,
       "left": null,
       "margin": null,
       "max_height": null,
       "max_width": null,
       "min_height": null,
       "min_width": null,
       "object_fit": null,
       "object_position": null,
       "order": null,
       "overflow": null,
       "overflow_x": null,
       "overflow_y": null,
       "padding": null,
       "right": null,
       "top": null,
       "visibility": null,
       "width": null
      }
     },
     "362f88364b874238b3198a5df61eadee": {
      "model_module": "@jupyter-widgets/controls",
      "model_module_version": "1.5.0",
      "model_name": "HTMLModel",
      "state": {
       "_dom_classes": [],
       "_model_module": "@jupyter-widgets/controls",
       "_model_module_version": "1.5.0",
       "_model_name": "HTMLModel",
       "_view_count": null,
       "_view_module": "@jupyter-widgets/controls",
       "_view_module_version": "1.5.0",
       "_view_name": "HTMLView",
       "description": "",
       "description_tooltip": null,
       "layout": "IPY_MODEL_1f64ccd64b0043ec87b626afe56082de",
       "placeholder": "​",
       "style": "IPY_MODEL_a35f73f3caa44678887ad672494bf28e",
       "value": "model.safetensors: 100%"
      }
     },
     "a35f73f3caa44678887ad672494bf28e": {
      "model_module": "@jupyter-widgets/controls",
      "model_module_version": "1.5.0",
      "model_name": "DescriptionStyleModel",
      "state": {
       "_model_module": "@jupyter-widgets/controls",
       "_model_module_version": "1.5.0",
       "_model_name": "DescriptionStyleModel",
       "_view_count": null,
       "_view_module": "@jupyter-widgets/base",
       "_view_module_version": "1.2.0",
       "_view_name": "StyleView",
       "description_width": ""
      }
     },
     "aab85712d6554bb085984828ba0449ae": {
      "model_module": "@jupyter-widgets/controls",
      "model_module_version": "1.5.0",
      "model_name": "FloatProgressModel",
      "state": {
       "_dom_classes": [],
       "_model_module": "@jupyter-widgets/controls",
       "_model_module_version": "1.5.0",
       "_model_name": "FloatProgressModel",
       "_view_count": null,
       "_view_module": "@jupyter-widgets/controls",
       "_view_module_version": "1.5.0",
       "_view_name": "ProgressView",
       "bar_style": "success",
       "description": "",
       "description_tooltip": null,
       "layout": "IPY_MODEL_19a76710b59f48de9fd432c16898e78b",
       "max": 88216496.0,
       "min": 0.0,
       "orientation": "horizontal",
       "style": "IPY_MODEL_ac2225c6999d49db9b199e963bde75ec",
       "value": 88216496.0
      }
     },
     "ac2225c6999d49db9b199e963bde75ec": {
      "model_module": "@jupyter-widgets/controls",
      "model_module_version": "1.5.0",
      "model_name": "ProgressStyleModel",
      "state": {
       "_model_module": "@jupyter-widgets/controls",
       "_model_module_version": "1.5.0",
       "_model_name": "ProgressStyleModel",
       "_view_count": null,
       "_view_module": "@jupyter-widgets/base",
       "_view_module_version": "1.2.0",
       "_view_name": "StyleView",
       "bar_color": null,
       "description_width": ""
      }
     },
     "b6958a9ab8614135a2ddaaca8ee94b28": {
      "model_module": "@jupyter-widgets/controls",
      "model_module_version": "1.5.0",
      "model_name": "HTMLModel",
      "state": {
       "_dom_classes": [],
       "_model_module": "@jupyter-widgets/controls",
       "_model_module_version": "1.5.0",
       "_model_name": "HTMLModel",
       "_view_count": null,
       "_view_module": "@jupyter-widgets/controls",
       "_view_module_version": "1.5.0",
       "_view_name": "HTMLView",
       "description": "",
       "description_tooltip": null,
       "layout": "IPY_MODEL_e4dce3733d65430eb24e8bce2c8ba908",
       "placeholder": "​",
       "style": "IPY_MODEL_0c571ba3e88f4320a7e543af556f6d39",
       "value": " 88.2M/88.2M [00:00&lt;00:00, 150MB/s]"
      }
     },
     "e4dce3733d65430eb24e8bce2c8ba908": {
      "model_module": "@jupyter-widgets/base",
      "model_module_version": "1.2.0",
      "model_name": "LayoutModel",
      "state": {
       "_model_module": "@jupyter-widgets/base",
       "_model_module_version": "1.2.0",
       "_model_name": "LayoutModel",
       "_view_count": null,
       "_view_module": "@jupyter-widgets/base",
       "_view_module_version": "1.2.0",
       "_view_name": "LayoutView",
       "align_content": null,
       "align_items": null,
       "align_self": null,
       "border": null,
       "bottom": null,
       "display": null,
       "flex": null,
       "flex_flow": null,
       "grid_area": null,
       "grid_auto_columns": null,
       "grid_auto_flow": null,
       "grid_auto_rows": null,
       "grid_column": null,
       "grid_gap": null,
       "grid_row": null,
       "grid_template_areas": null,
       "grid_template_columns": null,
       "grid_template_rows": null,
       "height": null,
       "justify_content": null,
       "justify_items": null,
       "left": null,
       "margin": null,
       "max_height": null,
       "max_width": null,
       "min_height": null,
       "min_width": null,
       "object_fit": null,
       "object_position": null,
       "order": null,
       "overflow": null,
       "overflow_x": null,
       "overflow_y": null,
       "padding": null,
       "right": null,
       "top": null,
       "visibility": null,
       "width": null
      }
     },
     "ec802191a40d47b49c5d24f6759fb689": {
      "model_module": "@jupyter-widgets/controls",
      "model_module_version": "1.5.0",
      "model_name": "HBoxModel",
      "state": {
       "_dom_classes": [],
       "_model_module": "@jupyter-widgets/controls",
       "_model_module_version": "1.5.0",
       "_model_name": "HBoxModel",
       "_view_count": null,
       "_view_module": "@jupyter-widgets/controls",
       "_view_module_version": "1.5.0",
       "_view_name": "HBoxView",
       "box_style": "",
       "children": [
        "IPY_MODEL_362f88364b874238b3198a5df61eadee",
        "IPY_MODEL_aab85712d6554bb085984828ba0449ae",
        "IPY_MODEL_b6958a9ab8614135a2ddaaca8ee94b28"
       ],
       "layout": "IPY_MODEL_2d6690192d9044918de71bdaa4a6e188"
      }
     }
    },
    "version_major": 2,
    "version_minor": 0
   }
  }
 },
 "nbformat": 4,
 "nbformat_minor": 5
}
